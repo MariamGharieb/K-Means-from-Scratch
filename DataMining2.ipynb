{
 "cells": [
  {
   "cell_type": "code",
   "execution_count": 1,
   "id": "11b5ecd2",
   "metadata": {},
   "outputs": [],
   "source": [
    "import pandas as pd\n",
    "import numpy as np\n",
    "import random\n",
    "from scipy.spatial.distance import euclidean"
   ]
  },
  {
   "cell_type": "code",
   "execution_count": 2,
   "id": "f6ac5cce",
   "metadata": {},
   "outputs": [],
   "source": [
    "# Load the dataset from Excel file\n",
    "dataset = pd.read_excel('F:/FCAI_materials/FCAI-CU(4-2)/Data Mining/Assignment2/Review_ratings.xlsx')"
   ]
  },
  {
   "cell_type": "code",
   "execution_count": 3,
   "id": "d1ef0154",
   "metadata": {},
   "outputs": [],
   "source": [
    "# Extract user ratings\n",
    "user_ratings = dataset.iloc[:, 1:].values #matrix"
   ]
  },
  {
   "cell_type": "code",
   "execution_count": 4,
   "id": "8200e4f7",
   "metadata": {},
   "outputs": [],
   "source": [
    "def k_means_clustering(user_ratings, k):\n",
    "    # Initialize centroids randomly\n",
    "    centroids = random.sample(list(user_ratings), k)\n",
    "    \n",
    "    # Initialize clusters and distances\n",
    "    clusters = [[] for _ in range(k)]\n",
    "    distances = np.zeros((user_ratings.shape[0], k))\n",
    "    \n",
    "    # Perform k-means iterations\n",
    "    max_iterations = 2\n",
    "    for _ in range(max_iterations):\n",
    "        clusters = [[] for _ in range(k)]\n",
    "        # Assign each data point to the nearest centroid\n",
    "        for i, rating in enumerate(user_ratings):\n",
    "            distances[i] = [euclidean(rating, centroid) for centroid in centroids]\n",
    "            #print(\"all distance = 0  \", i , distances[i])\n",
    "            nearest_centroid = np.argmin(distances[i])\n",
    "            #print (\" item \", i , \" = \", nearest_centroid)\n",
    "            clusters[nearest_centroid].append(i)\n",
    "        # Update centroids\n",
    "        for j, cluster in enumerate(clusters):\n",
    "            if cluster:\n",
    "                centroids[j] = np.mean(user_ratings[cluster], axis=0)      \n",
    "    return clusters, distances"
   ]
  },
  {
   "cell_type": "code",
   "execution_count": 5,
   "id": "c57e04e1",
   "metadata": {},
   "outputs": [],
   "source": [
    "def detect_outliers(distances, threshold):\n",
    "    outliers = []\n",
    "    for i, distance in enumerate(distances):\n",
    "        #print (\"Outlier distance\", i , distance)\n",
    "        if np.max(distance) > threshold:\n",
    "            outliers.append(i)\n",
    "    return outliers"
   ]
  },
  {
   "cell_type": "code",
   "execution_count": 1,
   "id": "1e25806b",
   "metadata": {},
   "outputs": [
    {
     "name": "stdout",
     "output_type": "stream",
     "text": [
      "Enter the number of clusters (k): 3\n",
      "Enter the outlier threshold: 50\n"
     ]
    },
    {
     "ename": "NameError",
     "evalue": "name 'k_means_clustering' is not defined",
     "output_type": "error",
     "traceback": [
      "\u001b[1;31m---------------------------------------------------------------------------\u001b[0m",
      "\u001b[1;31mNameError\u001b[0m                                 Traceback (most recent call last)",
      "\u001b[1;32m~\\AppData\\Local\\Temp\\ipykernel_9860\\3543210238.py\u001b[0m in \u001b[0;36m<module>\u001b[1;34m\u001b[0m\n\u001b[0;32m     18\u001b[0m \u001b[1;33m\u001b[0m\u001b[0m\n\u001b[0;32m     19\u001b[0m \u001b[1;32mif\u001b[0m \u001b[0m__name__\u001b[0m \u001b[1;33m==\u001b[0m \u001b[1;34m\"__main__\"\u001b[0m\u001b[1;33m:\u001b[0m\u001b[1;33m\u001b[0m\u001b[1;33m\u001b[0m\u001b[0m\n\u001b[1;32m---> 20\u001b[1;33m     \u001b[0mmain\u001b[0m\u001b[1;33m(\u001b[0m\u001b[1;33m)\u001b[0m\u001b[1;33m\u001b[0m\u001b[1;33m\u001b[0m\u001b[0m\n\u001b[0m",
      "\u001b[1;32m~\\AppData\\Local\\Temp\\ipykernel_9860\\3543210238.py\u001b[0m in \u001b[0;36mmain\u001b[1;34m()\u001b[0m\n\u001b[0;32m      3\u001b[0m     \u001b[0mthreshold\u001b[0m \u001b[1;33m=\u001b[0m \u001b[0mfloat\u001b[0m\u001b[1;33m(\u001b[0m\u001b[0minput\u001b[0m\u001b[1;33m(\u001b[0m\u001b[1;34m\"Enter the outlier threshold: \"\u001b[0m\u001b[1;33m)\u001b[0m\u001b[1;33m)\u001b[0m\u001b[1;33m\u001b[0m\u001b[1;33m\u001b[0m\u001b[0m\n\u001b[0;32m      4\u001b[0m \u001b[1;33m\u001b[0m\u001b[0m\n\u001b[1;32m----> 5\u001b[1;33m     \u001b[0mclusters\u001b[0m\u001b[1;33m,\u001b[0m \u001b[0mdistances\u001b[0m \u001b[1;33m=\u001b[0m \u001b[0mk_means_clustering\u001b[0m\u001b[1;33m(\u001b[0m\u001b[0muser_ratings\u001b[0m\u001b[1;33m,\u001b[0m \u001b[0mk\u001b[0m\u001b[1;33m)\u001b[0m\u001b[1;33m\u001b[0m\u001b[1;33m\u001b[0m\u001b[0m\n\u001b[0m\u001b[0;32m      6\u001b[0m     \u001b[0moutliers\u001b[0m \u001b[1;33m=\u001b[0m \u001b[0mdetect_outliers\u001b[0m\u001b[1;33m(\u001b[0m\u001b[0mdistances\u001b[0m\u001b[1;33m,\u001b[0m \u001b[0mthreshold\u001b[0m\u001b[1;33m)\u001b[0m\u001b[1;33m\u001b[0m\u001b[1;33m\u001b[0m\u001b[0m\n\u001b[0;32m      7\u001b[0m     \u001b[1;31m#print(\"distances = \")\u001b[0m\u001b[1;33m\u001b[0m\u001b[1;33m\u001b[0m\u001b[0m\n",
      "\u001b[1;31mNameError\u001b[0m: name 'k_means_clustering' is not defined"
     ]
    }
   ],
   "source": [
    "def main():\n",
    "    k = int(input(\"Enter the number of clusters (k): \"))\n",
    "    threshold = float(input(\"Enter the outlier threshold: \"))\n",
    "\n",
    "    clusters, distances = k_means_clustering(user_ratings, k)\n",
    "    outliers = detect_outliers(distances, threshold)\n",
    "    #print(\"distances = \")\n",
    "    #print (distances)\n",
    "    # Display cluster lists\n",
    "    print(\"Clusters:\")\n",
    "    for i, cluster in enumerate(clusters):\n",
    "        print(f\"Cluster {i+1}: {cluster}\")\n",
    "        print(\"===============================================================================================\")\n",
    "    # Display outlier records\n",
    "    print(\"\\nOutlier Records:\")\n",
    "    for outlier in outliers:\n",
    "        print(f\"User {outlier+1}: {user_ratings[outlier]}\")\n",
    "\n",
    "if __name__ == \"__main__\":\n",
    "    main()\n"
   ]
  },
  {
   "cell_type": "code",
   "execution_count": null,
   "id": "52f9f560",
   "metadata": {},
   "outputs": [],
   "source": []
  },
  {
   "cell_type": "code",
   "execution_count": null,
   "id": "fda92036",
   "metadata": {},
   "outputs": [],
   "source": []
  }
 ],
 "metadata": {
  "kernelspec": {
   "display_name": "Python 3 (ipykernel)",
   "language": "python",
   "name": "python3"
  },
  "language_info": {
   "codemirror_mode": {
    "name": "ipython",
    "version": 3
   },
   "file_extension": ".py",
   "mimetype": "text/x-python",
   "name": "python",
   "nbconvert_exporter": "python",
   "pygments_lexer": "ipython3",
   "version": "3.9.13"
  }
 },
 "nbformat": 4,
 "nbformat_minor": 5
}
